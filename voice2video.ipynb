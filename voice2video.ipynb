{
  "nbformat": 4,
  "nbformat_minor": 0,
  "metadata": {
    "colab": {
      "provenance": [],
      "authorship_tag": "ABX9TyMlv07iCUv9zZhWSfOdyMSD",
      "include_colab_link": true
    },
    "kernelspec": {
      "name": "python3",
      "display_name": "Python 3"
    },
    "language_info": {
      "name": "python"
    }
  },
  "cells": [
    {
      "cell_type": "markdown",
      "metadata": {
        "id": "view-in-github",
        "colab_type": "text"
      },
      "source": [
        "<a href=\"https://colab.research.google.com/github/00b7ce/voice2video/blob/main/voice2video.ipynb\" target=\"_parent\"><img src=\"https://colab.research.google.com/assets/colab-badge.svg\" alt=\"Open In Colab\"/></a>"
      ]
    },
    {
      "cell_type": "code",
      "source": [
        "#@title ## 0 ノートブックの準備\n",
        "\n",
        "#@markdown このノートブックのセットアップを行います。セルを実行し、完了したら次に進んでください。\n",
        "\n",
        "#debug用ディレクトリの作成\n",
        "!rm -rf /mmvc-debug\n",
        "!mkdir /mmvc-debug\n",
        "\n",
        "#現在時刻の取得\n",
        "import datetime\n",
        "jst_delta = datetime.timedelta(hours=9)\n",
        "JST = datetime.timezone(jst_delta, 'JST')\n",
        "now = datetime.datetime.now(JST)\n",
        "nowt = now.strftime('%Y%m%d%H%M%S')\n",
        "\n",
        "#python管理\n",
        "import sys\n",
        "\n",
        "#出力記録用カスタムマジック %%ccapture\n",
        "from IPython import get_ipython\n",
        "from IPython.core import magic_arguments\n",
        "from IPython.core.magic import register_cell_magic\n",
        "from IPython.utils.capture import capture_output\n",
        "\n",
        "@magic_arguments.magic_arguments()\n",
        "@magic_arguments.argument('output', type=str, default='', nargs='?')\n",
        "\n",
        "@register_cell_magic\n",
        "def ccapture(line, cell):\n",
        "    args = magic_arguments.parse_argstring(ccapture, line)\n",
        "    with capture_output() as outputs:\n",
        "        get_ipython().run_cell(cell)\n",
        "    if args.output:\n",
        "        get_ipython().user_ns[args.output] = outputs\n",
        "    \n",
        "    outputs()"
      ],
      "metadata": {
        "cellView": "form",
        "id": "UTRU5Vh8Nfvg"
      },
      "execution_count": 1,
      "outputs": []
    },
    {
      "cell_type": "code",
      "source": [
        "#@title ## 1 音声ファイルのアップロード\n",
        "\n",
        "#@markdown - セルを実行し、音声ファイルをアップロードしてください。\n",
        "\n",
        "from google.colab import files\n",
        "uploaded_voice = files.upload()\n"
      ],
      "metadata": {
        "cellView": "form",
        "id": "S1Y3TYaUOcKu"
      },
      "execution_count": null,
      "outputs": []
    },
    {
      "cell_type": "code",
      "source": [
        "#@title ## 2 画像ファイルのアップロード\n",
        "\n",
        "#@markdown - セルを実行し、画像ファイルをアップロードしてください。\n",
        "\n",
        "from google.colab import files\n",
        "uploaded_image = files.upload()"
      ],
      "metadata": {
        "cellView": "form",
        "id": "AkpBEwv7Qfjk"
      },
      "execution_count": null,
      "outputs": []
    },
    {
      "cell_type": "code",
      "source": [
        "#@title ## 3 動画の生成\n",
        "\n",
        "#@markdown - セルを実行し、動画を生成します。\n",
        "\n",
        "voice_filename = \"/content/\" + list(uploaded_voice.keys())[0]\n",
        "image_filename = \"/content/\" + list(uploaded_image.keys())[0]\n",
        "out_filename   = \"/content/\" + now.strftime('%Y%m%d_%H%M%S') + \".mp4\"\n",
        "!ffmpeg -loop 1 -i $image_filename -i $voice_filename -r 60 -vcodec libx264 -s 1280x720 -acodec aac -ab 160k -ar 48000 -pix_fmt yuv420p -shortest -loglevel fatal $out_filename\n",
        "\n",
        "from IPython.display import HTML\n",
        "from base64 import b64encode\n",
        "\n",
        "mp4 = open(out_filename, 'rb').read()\n",
        "data_url = 'data:video/mp4;base64,' + b64encode(mp4).decode()\n",
        "HTML(f\"\"\"\n",
        "<video width=\"50%\" height=\"50%\" controls>\n",
        "      <source src=\"{data_url}\" type=\"video/mp4\">\n",
        "</video>\"\"\")\n"
      ],
      "metadata": {
        "cellView": "form",
        "id": "5gTpEG-9RjDj"
      },
      "execution_count": null,
      "outputs": []
    },
    {
      "cell_type": "code",
      "source": [
        "#@title ## 4 動画のダウンロード\n",
        "\n",
        "#@markdown - セルを実行し、動画をダウンロードします。\n",
        "files.download(out_filename)"
      ],
      "metadata": {
        "colab": {
          "base_uri": "https://localhost:8080/",
          "height": 17
        },
        "cellView": "form",
        "id": "rxJKl7IDVs5i",
        "outputId": "e1c7ac6a-affe-4191-e1ab-99a6f0239d9b"
      },
      "execution_count": 5,
      "outputs": [
        {
          "output_type": "display_data",
          "data": {
            "text/plain": [
              "<IPython.core.display.Javascript object>"
            ],
            "application/javascript": [
              "\n",
              "    async function download(id, filename, size) {\n",
              "      if (!google.colab.kernel.accessAllowed) {\n",
              "        return;\n",
              "      }\n",
              "      const div = document.createElement('div');\n",
              "      const label = document.createElement('label');\n",
              "      label.textContent = `Downloading \"${filename}\": `;\n",
              "      div.appendChild(label);\n",
              "      const progress = document.createElement('progress');\n",
              "      progress.max = size;\n",
              "      div.appendChild(progress);\n",
              "      document.body.appendChild(div);\n",
              "\n",
              "      const buffers = [];\n",
              "      let downloaded = 0;\n",
              "\n",
              "      const channel = await google.colab.kernel.comms.open(id);\n",
              "      // Send a message to notify the kernel that we're ready.\n",
              "      channel.send({})\n",
              "\n",
              "      for await (const message of channel.messages) {\n",
              "        // Send a message to notify the kernel that we're ready.\n",
              "        channel.send({})\n",
              "        if (message.buffers) {\n",
              "          for (const buffer of message.buffers) {\n",
              "            buffers.push(buffer);\n",
              "            downloaded += buffer.byteLength;\n",
              "            progress.value = downloaded;\n",
              "          }\n",
              "        }\n",
              "      }\n",
              "      const blob = new Blob(buffers, {type: 'application/binary'});\n",
              "      const a = document.createElement('a');\n",
              "      a.href = window.URL.createObjectURL(blob);\n",
              "      a.download = filename;\n",
              "      div.appendChild(a);\n",
              "      a.click();\n",
              "      div.remove();\n",
              "    }\n",
              "  "
            ]
          },
          "metadata": {}
        },
        {
          "output_type": "display_data",
          "data": {
            "text/plain": [
              "<IPython.core.display.Javascript object>"
            ],
            "application/javascript": [
              "download(\"download_3cb54ebe-c116-4462-a1a0-b0a87a81fdd6\", \"20230206_151048.mp4\", 111197)"
            ]
          },
          "metadata": {}
        }
      ]
    }
  ]
}